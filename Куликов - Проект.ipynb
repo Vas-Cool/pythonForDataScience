{
 "cells": [
  {
   "cell_type": "code",
   "execution_count": 731,
   "metadata": {},
   "outputs": [],
   "source": [
    "import numpy as np\n",
    "import pandas as pd\n",
    "import matplotlib.pyplot as plt\n",
    "\n",
    "import warnings\n",
    "pd.set_option('display.max_columns', 100)\n",
    "\n",
    "warnings.filterwarnings('ignore')"
   ]
  },
  {
   "cell_type": "code",
   "execution_count": 732,
   "metadata": {},
   "outputs": [],
   "source": [
    "data = pd.read_csv('input/train.csv')"
   ]
  },
  {
   "cell_type": "code",
   "execution_count": 733,
   "metadata": {},
   "outputs": [
    {
     "data": {
      "image/png": "[encoded data removed]",
      "text/plain": [
       "<Figure size 720x576 with 4 Axes>"
      ]
     },
     "metadata": {
      "needs_background": "light"
     },
     "output_type": "display_data"
    }
   ],
   "source": [
    "fig, ax = plt.subplots(2, 2)\n",
    "ax[0, 0].hist(data['Price'], bins=20)\n",
    "ax[0, 1].hist(data['Rooms'], bins=20)\n",
    "ax[1, 0].hist(data['Square'], bins=20)\n",
    "ax[1, 1].hist(data['DistrictId'], bins=20)\n",
    "ax[0, 0].set_title('Цены в исхоном датафрейме')\n",
    "ax[0, 1].set_title('Кол-во комнат в исхоном датафрейме')\n",
    "ax[1, 0].set_title('Площадь в исхоном датафрейме')\n",
    "ax[1, 1].set_title('Распределение по районам в исходном датафрейме')\n",
    "fig.set_size_inches(10, 8)\n",
    "plt.subplots_adjust(wspace=0.3)\n",
    "plt.subplots_adjust(hspace=0.3)"
   ]
  },
  {
   "cell_type": "markdown",
   "metadata": {},
   "source": [
    "### train_test_split"
   ]
  },
  {
   "cell_type": "code",
   "execution_count": 734,
   "metadata": {},
   "outputs": [],
   "source": [
    "from sklearn.model_selection import train_test_split"
   ]
  },
  {
   "cell_type": "code",
   "execution_count": 735,
   "metadata": {},
   "outputs": [],
   "source": [
    "train, valid = train_test_split(data, test_size=0.7, random_state=42)"
   ]
  },
  {
   "cell_type": "markdown",
   "metadata": {},
   "source": [
    "### Prepare data"
   ]
  },
  {
   "cell_type": "code",
   "execution_count": 736,
   "metadata": {},
   "outputs": [
    {
     "data": {
      "text/plain": [
       "Index(['Id', 'DistrictId', 'Rooms', 'Square', 'LifeSquare', 'KitchenSquare',\n",
       "       'Floor', 'HouseFloor', 'HouseYear', 'Ecology_1', 'Ecology_2',\n",
       "       'Ecology_3', 'Social_1', 'Social_2', 'Social_3', 'Healthcare_1',\n",
       "       'Helthcare_2', 'Shops_1', 'Shops_2', 'Price'],\n",
       "      dtype='object')"
      ]
     },
     "execution_count": 736,
     "metadata": {},
     "output_type": "execute_result"
    }
   ],
   "source": [
    "train.columns"
   ]
  },
  {
   "cell_type": "code",
   "execution_count": 737,
   "metadata": {},
   "outputs": [
    {
     "data": {
      "text/plain": [
       "(3000, 20)"
      ]
     },
     "execution_count": 737,
     "metadata": {},
     "output_type": "execute_result"
    }
   ],
   "source": [
    "train.shape"
   ]
  },
  {
   "cell_type": "code",
   "execution_count": 738,
   "metadata": {},
   "outputs": [
    {
     "name": "stdout",
     "output_type": "stream",
     "text": [
      "<class 'pandas.core.frame.DataFrame'>\n",
      "Int64Index: 3000 entries, 5525 to 7270\n",
      "Data columns (total 20 columns):\n",
      "Id               3000 non-null int64\n",
      "DistrictId       3000 non-null int64\n",
      "Rooms            3000 non-null float64\n",
      "Square           3000 non-null float64\n",
      "LifeSquare       2360 non-null float64\n",
      "KitchenSquare    3000 non-null float64\n",
      "Floor            3000 non-null int64\n",
      "HouseFloor       3000 non-null float64\n",
      "HouseYear        3000 non-null int64\n",
      "Ecology_1        3000 non-null float64\n",
      "Ecology_2        3000 non-null object\n",
      "Ecology_3        3000 non-null object\n",
      "Social_1         3000 non-null int64\n",
      "Social_2         3000 non-null int64\n",
      "Social_3         3000 non-null int64\n",
      "Healthcare_1     1563 non-null float64\n",
      "Helthcare_2      3000 non-null int64\n",
      "Shops_1          3000 non-null int64\n",
      "Shops_2          3000 non-null object\n",
      "Price            3000 non-null float64\n",
      "dtypes: float64(8), int64(9), object(3)\n",
      "memory usage: 492.2+ KB\n"
     ]
    }
   ],
   "source": [
    "train.info()"
   ]
  },
  {
   "cell_type": "code",
   "execution_count": 739,
   "metadata": {},
   "outputs": [],
   "source": [
    "def prepare_year(df):\n",
    "    df.loc[df['HouseYear'] == 20052011, 'HouseYear'] = 2008\n",
    "    df.loc[df['HouseYear'] == 4968, 'HouseYear'] = 1968\n",
    "    return df"
   ]
  },
  {
   "cell_type": "code",
   "execution_count": 740,
   "metadata": {},
   "outputs": [],
   "source": [
    "def prepare_rooms(df, source_df):\n",
    "    df.loc[df['Rooms'] > 5, 'Rooms'] = source_df['Rooms'].median()\n",
    "    return df"
   ]
  },
  {
   "cell_type": "code",
   "execution_count": 741,
   "metadata": {},
   "outputs": [],
   "source": [
    "mean_square = train.groupby('Rooms', as_index=False)[['Square', 'LifeSquare']].mean().rename(columns={'Square': 'mean_square', \n",
    "                                                                                                          'LifeSquare': 'mean_lifesquare'})\n",
    "def prepare_square(df, mean_square):\n",
    "    small_square_ids = df.loc[df['Square'] < 15, 'Id'].values\n",
    "    if ('mean_square' not in df.columns) & ('mean_lifesquare' not in df.columns):\n",
    "        df = pd.merge(df, mean_square, on=['Rooms'], how='left')\n",
    "    df.loc[df['Id'].isin(small_square_ids), 'Square'] = df['mean_square']\n",
    "    large_square_ids = df.loc[df['Square'] > 150, 'Id'].values\n",
    "    df.loc[df['Id'].isin(large_square_ids), 'Square'] = df['mean_square']\n",
    "    df.loc[df['Id'].isin(large_square_ids), 'LifeSquare'] = df['mean_lifesquare']\n",
    "    df['LifeSquare'] = df['LifeSquare'].fillna(df['mean_lifesquare'])\n",
    "    df.loc[df['LifeSquare'] > df['Square'], 'LifeSquare'] = df['Square']\n",
    "    return df"
   ]
  },
  {
   "cell_type": "code",
   "execution_count": 742,
   "metadata": {},
   "outputs": [],
   "source": [
    "def prepare_ecology(df):\n",
    "    df['Ecology_2'] = (df['Ecology_2'] == 'B').astype(int)\n",
    "    df['Ecology_3'] = (df['Ecology_3'] == 'B').astype(int)\n",
    "    return df"
   ]
  },
  {
   "cell_type": "code",
   "execution_count": 743,
   "metadata": {},
   "outputs": [],
   "source": [
    "def prepare_shops(df):\n",
    "    df['Shops_2'] = (df['Shops_2'] == 'B').astype(int)\n",
    "    return df"
   ]
  },
  {
   "cell_type": "code",
   "execution_count": 744,
   "metadata": {},
   "outputs": [],
   "source": [
    "stat1 = train.groupby(['DistrictId', 'Rooms'], as_index=False)[['Price']].mean().rename(columns={'Price':'mean_price1'})\n",
    "stat2 = train.groupby('Rooms', as_index=False)[['Price']].mean().rename(columns={'Price':'mean_price2'})\n",
    "mean_price = train['Price'].mean()"
   ]
  },
  {
   "cell_type": "code",
   "execution_count": 745,
   "metadata": {},
   "outputs": [],
   "source": [
    "def add_mean_price(df, stat1, stat2, mean_price):\n",
    "    if ('mean_price1' not in df.columns) & ('mean_price2' not in df.columns):\n",
    "        df = pd.merge(df, stat1, on=['DistrictId', 'Rooms'], how='left')\n",
    "        df = pd.merge(df, stat2, on='Rooms', how='left')\n",
    "        df['mean_price2'] = df['mean_price2'].fillna(mean_price)\n",
    "        df['mean_price1'] = df['mean_price1'].fillna(df['mean_price2'])\n",
    "    return df"
   ]
  },
  {
   "cell_type": "code",
   "execution_count": 746,
   "metadata": {},
   "outputs": [],
   "source": [
    "distr_info1 = train['DistrictId'].value_counts(normalize=True).reset_index().rename(columns={'index':'DistrictId', \n",
    "                                                                               'DistrictId':'flat_qty_distr'})"
   ]
  },
  {
   "cell_type": "code",
   "execution_count": 748,
   "metadata": {},
   "outputs": [],
   "source": [
    "def add_district_info(df, source_df=train):\n",
    "    if ('flat_qty_distr' not in df.columns):\n",
    "        distr_info = source_df['DistrictId'].value_counts(normalize=True).reset_index().rename(columns={'index':'DistrictId', \n",
    "                                                                               'DistrictId':'flat_qty_distr'})\n",
    "        df = pd.merge(df, distr_info, on='DistrictId', how='left')\n",
    "        df['flat_qty_distr'] = df['flat_qty_distr'].fillna(0.000143)\n",
    "    return df"
   ]
  },
  {
   "cell_type": "code",
   "execution_count": 749,
   "metadata": {},
   "outputs": [],
   "source": [
    "def prepare_data(df, source_df=train, stat1=stat1, stat2=stat2, mean_price=mean_price, mean_square=mean_square):\n",
    "    if ('Healthcare_1' in df.columns):\n",
    "        df = df.drop('Healthcare_1', axis=1)\n",
    "    df = prepare_year(df)\n",
    "    df = prepare_rooms(df, source_df)\n",
    "    df = prepare_square(df, mean_square)\n",
    "    df = prepare_ecology(df)\n",
    "    df = prepare_shops(df)\n",
    "    df = add_mean_price(df, stat1, stat2, mean_price)\n",
    "    df = add_district_info(df, source_df)\n",
    "    return df"
   ]
  },
  {
   "cell_type": "code",
   "execution_count": 750,
   "metadata": {},
   "outputs": [],
   "source": [
    "train = prepare_data(train)"
   ]
  },
  {
   "cell_type": "code",
   "execution_count": 751,
   "metadata": {},
   "outputs": [],
   "source": [
    "valid = prepare_data(valid)"
   ]
  },
  {
   "cell_type": "code",
   "execution_count": 752,
   "metadata": {},
   "outputs": [
    {
     "data": {
      "image/png": "[encoded data removed]",
      "text/plain": [
       "<Figure size 720x576 with 4 Axes>"
      ]
     },
     "metadata": {
      "needs_background": "light"
     },
     "output_type": "display_data"
    }
   ],
   "source": [
    "fig, ax = plt.subplots(2, 2)\n",
    "ax[0, 0].hist(train['Price'], bins=20)\n",
    "ax[0, 1].hist(train['Rooms'], bins=20)\n",
    "ax[1, 0].hist(train['Square'], bins=20)\n",
    "ax[1, 1].hist(train['DistrictId'], bins=20)\n",
    "ax[0, 0].set_title('Цены в тренировочном датафрейме')\n",
    "ax[0, 1].set_title('Кол-во комнат в тренировочном датафрейме')\n",
    "ax[1, 0].set_title('Площадь в тренировочном датафрейме')\n",
    "ax[1, 1].set_title('Распределение по районам в тренировочном датафрейме')\n",
    "fig.set_size_inches(10, 8)\n",
    "plt.subplots_adjust(wspace=0.5)\n",
    "plt.subplots_adjust(hspace=0.3)"
   ]
  },
  {
   "cell_type": "code",
   "execution_count": 753,
   "metadata": {},
   "outputs": [
    {
     "data": {
      "image/png": "[encoded data removed]",
      "text/plain": [
       "<Figure size 720x576 with 4 Axes>"
      ]
     },
     "metadata": {
      "needs_background": "light"
     },
     "output_type": "display_data"
    }
   ],
   "source": [
    "fig, ax = plt.subplots(2, 2)\n",
    "ax[0, 0].hist(valid['Price'], bins=20)\n",
    "ax[0, 1].hist(valid['Rooms'], bins=20)\n",
    "ax[1, 0].hist(valid['Square'], bins=20)\n",
    "ax[1, 1].hist(valid['DistrictId'], bins=20)\n",
    "ax[0, 0].set_title('Цены в валидационном датафрейме')\n",
    "ax[0, 1].set_title('Кол-во комнат в валидационном датафрейме')\n",
    "ax[1, 0].set_title('Площадь в валидационном датафрейме')\n",
    "ax[1, 1].set_title('Распределение по районам в валидационном датафрейме')\n",
    "fig.set_size_inches(10, 8)\n",
    "plt.subplots_adjust(wspace=0.5)\n",
    "plt.subplots_adjust(hspace=0.3)"
   ]
  },
  {
   "cell_type": "markdown",
   "metadata": {},
   "source": [
    "### Model"
   ]
  },
  {
   "cell_type": "code",
   "execution_count": 754,
   "metadata": {},
   "outputs": [],
   "source": [
    "from sklearn.ensemble import RandomForestRegressor as RF"
   ]
  },
  {
   "cell_type": "code",
   "execution_count": 755,
   "metadata": {},
   "outputs": [],
   "source": [
    "model = RF(n_estimators=6, max_depth=9, random_state=42)"
   ]
  },
  {
   "cell_type": "code",
   "execution_count": 756,
   "metadata": {},
   "outputs": [],
   "source": [
    "feats = ['Rooms', 'Square', 'KitchenSquare', 'HouseYear', 'mean_price1']"
   ]
  },
  {
   "cell_type": "code",
   "execution_count": 762,
   "metadata": {},
   "outputs": [],
   "source": [
    "feats = ['DistrictId', 'Rooms', 'Square', 'Floor', 'Ecology_1', 'Ecology_2', 'Ecology_3', 'Social_1',\n",
    "       'Social_2', 'Social_3', 'Helthcare_2', 'Shops_1', 'Shops_2', 'flat_qty_distr']"
   ]
  },
  {
   "cell_type": "code",
   "execution_count": 776,
   "metadata": {},
   "outputs": [
    {
     "data": {
      "text/html": [
       "<div>\n",
       "<style scoped>\n",
       "    .dataframe tbody tr th:only-of-type {\n",
       "        vertical-align: middle;\n",
       "    }\n",
       "\n",
       "    .dataframe tbody tr th {\n",
       "        vertical-align: top;\n",
       "    }\n",
       "\n",
       "    .dataframe thead th {\n",
       "        text-align: right;\n",
       "    }\n",
       "</style>\n",
       "<table border=\"1\" class=\"dataframe\">\n",
       "  <thead>\n",
       "    <tr style=\"text-align: right;\">\n",
       "      <th></th>\n",
       "      <th>Id</th>\n",
       "      <th>DistrictId</th>\n",
       "      <th>Rooms</th>\n",
       "      <th>Square</th>\n",
       "      <th>LifeSquare</th>\n",
       "      <th>KitchenSquare</th>\n",
       "      <th>Floor</th>\n",
       "      <th>HouseFloor</th>\n",
       "      <th>HouseYear</th>\n",
       "      <th>Ecology_1</th>\n",
       "      <th>Ecology_2</th>\n",
       "      <th>Ecology_3</th>\n",
       "      <th>Social_1</th>\n",
       "      <th>Social_2</th>\n",
       "      <th>Social_3</th>\n",
       "      <th>Helthcare_2</th>\n",
       "      <th>Shops_1</th>\n",
       "      <th>Shops_2</th>\n",
       "      <th>Price</th>\n",
       "      <th>mean_square</th>\n",
       "      <th>mean_lifesquare</th>\n",
       "      <th>mean_price1</th>\n",
       "      <th>mean_price2</th>\n",
       "      <th>flat_qty_distr</th>\n",
       "    </tr>\n",
       "  </thead>\n",
       "  <tbody>\n",
       "    <tr>\n",
       "      <th>0</th>\n",
       "      <td>10421</td>\n",
       "      <td>46</td>\n",
       "      <td>2.0</td>\n",
       "      <td>45.989112</td>\n",
       "      <td>28.585711</td>\n",
       "      <td>5.0</td>\n",
       "      <td>4</td>\n",
       "      <td>5.0</td>\n",
       "      <td>1963</td>\n",
       "      <td>0.188784</td>\n",
       "      <td>1</td>\n",
       "      <td>1</td>\n",
       "      <td>31</td>\n",
       "      <td>6137</td>\n",
       "      <td>4</td>\n",
       "      <td>0</td>\n",
       "      <td>1</td>\n",
       "      <td>1</td>\n",
       "      <td>198274.384595</td>\n",
       "      <td>56.812247</td>\n",
       "      <td>35.384694</td>\n",
       "      <td>230882.721507</td>\n",
       "      <td>216934.825271</td>\n",
       "      <td>0.014667</td>\n",
       "    </tr>\n",
       "    <tr>\n",
       "      <th>1</th>\n",
       "      <td>13111</td>\n",
       "      <td>55</td>\n",
       "      <td>1.0</td>\n",
       "      <td>40.570752</td>\n",
       "      <td>19.719605</td>\n",
       "      <td>8.0</td>\n",
       "      <td>2</td>\n",
       "      <td>17.0</td>\n",
       "      <td>1992</td>\n",
       "      <td>0.041365</td>\n",
       "      <td>1</td>\n",
       "      <td>1</td>\n",
       "      <td>31</td>\n",
       "      <td>5569</td>\n",
       "      <td>0</td>\n",
       "      <td>1</td>\n",
       "      <td>4</td>\n",
       "      <td>1</td>\n",
       "      <td>149593.023848</td>\n",
       "      <td>41.442817</td>\n",
       "      <td>25.476403</td>\n",
       "      <td>163679.057284</td>\n",
       "      <td>159958.953544</td>\n",
       "      <td>0.005333</td>\n",
       "    </tr>\n",
       "    <tr>\n",
       "      <th>2</th>\n",
       "      <td>8349</td>\n",
       "      <td>6</td>\n",
       "      <td>1.0</td>\n",
       "      <td>40.081713</td>\n",
       "      <td>25.476403</td>\n",
       "      <td>1.0</td>\n",
       "      <td>3</td>\n",
       "      <td>1.0</td>\n",
       "      <td>1977</td>\n",
       "      <td>0.243205</td>\n",
       "      <td>1</td>\n",
       "      <td>1</td>\n",
       "      <td>5</td>\n",
       "      <td>1564</td>\n",
       "      <td>0</td>\n",
       "      <td>0</td>\n",
       "      <td>0</td>\n",
       "      <td>1</td>\n",
       "      <td>118035.159516</td>\n",
       "      <td>41.442817</td>\n",
       "      <td>25.476403</td>\n",
       "      <td>133491.711344</td>\n",
       "      <td>159958.953544</td>\n",
       "      <td>0.049000</td>\n",
       "    </tr>\n",
       "    <tr>\n",
       "      <th>3</th>\n",
       "      <td>15368</td>\n",
       "      <td>57</td>\n",
       "      <td>2.0</td>\n",
       "      <td>55.681838</td>\n",
       "      <td>32.825366</td>\n",
       "      <td>9.0</td>\n",
       "      <td>12</td>\n",
       "      <td>14.0</td>\n",
       "      <td>2003</td>\n",
       "      <td>0.090799</td>\n",
       "      <td>1</td>\n",
       "      <td>1</td>\n",
       "      <td>74</td>\n",
       "      <td>19083</td>\n",
       "      <td>2</td>\n",
       "      <td>5</td>\n",
       "      <td>15</td>\n",
       "      <td>1</td>\n",
       "      <td>226109.027544</td>\n",
       "      <td>56.812247</td>\n",
       "      <td>35.384694</td>\n",
       "      <td>259630.863583</td>\n",
       "      <td>216934.825271</td>\n",
       "      <td>0.009333</td>\n",
       "    </tr>\n",
       "    <tr>\n",
       "      <th>4</th>\n",
       "      <td>12179</td>\n",
       "      <td>75</td>\n",
       "      <td>2.0</td>\n",
       "      <td>46.222166</td>\n",
       "      <td>31.494145</td>\n",
       "      <td>5.0</td>\n",
       "      <td>6</td>\n",
       "      <td>5.0</td>\n",
       "      <td>1962</td>\n",
       "      <td>0.307467</td>\n",
       "      <td>1</td>\n",
       "      <td>0</td>\n",
       "      <td>30</td>\n",
       "      <td>5048</td>\n",
       "      <td>9</td>\n",
       "      <td>2</td>\n",
       "      <td>5</td>\n",
       "      <td>1</td>\n",
       "      <td>168429.892158</td>\n",
       "      <td>56.812247</td>\n",
       "      <td>35.384694</td>\n",
       "      <td>207888.773859</td>\n",
       "      <td>216934.825271</td>\n",
       "      <td>0.005000</td>\n",
       "    </tr>\n",
       "  </tbody>\n",
       "</table>\n",
       "</div>"
      ],
      "text/plain": [
       "      Id  DistrictId  Rooms     Square  LifeSquare  KitchenSquare  Floor  \\\n",
       "0  10421          46    2.0  45.989112   28.585711            5.0      4   \n",
       "1  13111          55    1.0  40.570752   19.719605            8.0      2   \n",
       "2   8349           6    1.0  40.081713   25.476403            1.0      3   \n",
       "3  15368          57    2.0  55.681838   32.825366            9.0     12   \n",
       "4  12179          75    2.0  46.222166   31.494145            5.0      6   \n",
       "\n",
       "   HouseFloor  HouseYear  Ecology_1  Ecology_2  Ecology_3  Social_1  Social_2  \\\n",
       "0         5.0       1963   0.188784          1          1        31      6137   \n",
       "1        17.0       1992   0.041365          1          1        31      5569   \n",
       "2         1.0       1977   0.243205          1          1         5      1564   \n",
       "3        14.0       2003   0.090799          1          1        74     19083   \n",
       "4         5.0       1962   0.307467          1          0        30      5048   \n",
       "\n",
       "   Social_3  Helthcare_2  Shops_1  Shops_2          Price  mean_square  \\\n",
       "0         4            0        1        1  198274.384595    56.812247   \n",
       "1         0            1        4        1  149593.023848    41.442817   \n",
       "2         0            0        0        1  118035.159516    41.442817   \n",
       "3         2            5       15        1  226109.027544    56.812247   \n",
       "4         9            2        5        1  168429.892158    56.812247   \n",
       "\n",
       "   mean_lifesquare    mean_price1    mean_price2  flat_qty_distr  \n",
       "0        35.384694  230882.721507  216934.825271        0.014667  \n",
       "1        25.476403  163679.057284  159958.953544        0.005333  \n",
       "2        25.476403  133491.711344  159958.953544        0.049000  \n",
       "3        35.384694  259630.863583  216934.825271        0.009333  \n",
       "4        35.384694  207888.773859  216934.825271        0.005000  "
      ]
     },
     "execution_count": 776,
     "metadata": {},
     "output_type": "execute_result"
    }
   ],
   "source": [
    "train.head()"
   ]
  },
  {
   "cell_type": "code",
   "execution_count": null,
   "metadata": {},
   "outputs": [],
   "source": []
  },
  {
   "cell_type": "code",
   "execution_count": 764,
   "metadata": {},
   "outputs": [
    {
     "data": {
      "text/plain": [
       "RandomForestRegressor(bootstrap=True, criterion='mse', max_depth=9,\n",
       "           max_features='auto', max_leaf_nodes=None,\n",
       "           min_impurity_decrease=0.0, min_impurity_split=None,\n",
       "           min_samples_leaf=1, min_samples_split=2,\n",
       "           min_weight_fraction_leaf=0.0, n_estimators=6, n_jobs=None,\n",
       "           oob_score=False, random_state=42, verbose=0, warm_start=False)"
      ]
     },
     "execution_count": 764,
     "metadata": {},
     "output_type": "execute_result"
    }
   ],
   "source": [
    "model.fit(train.loc[:, feats], train['Price'])"
   ]
  },
  {
   "cell_type": "code",
   "execution_count": 765,
   "metadata": {},
   "outputs": [],
   "source": [
    "from sklearn.metrics import r2_score as r2"
   ]
  },
  {
   "cell_type": "code",
   "execution_count": 766,
   "metadata": {},
   "outputs": [],
   "source": [
    "def evaluate_model(df, model=model, feats=feats, check_r2='Yes'):\n",
    "    pred = model.predict(df.loc[:, feats])\n",
    "    if check_r2 == 'Yes':\n",
    "        r2_ = r2(df['Price'], pred)\n",
    "        print('R2: {}'.format(r2_))\n",
    "    return pred"
   ]
  },
  {
   "cell_type": "code",
   "execution_count": 767,
   "metadata": {},
   "outputs": [
    {
     "name": "stdout",
     "output_type": "stream",
     "text": [
      "R2: 0.8616616108642822\n"
     ]
    }
   ],
   "source": [
    "pred_train = evaluate_model(train)"
   ]
  },
  {
   "cell_type": "code",
   "execution_count": 768,
   "metadata": {},
   "outputs": [
    {
     "name": "stdout",
     "output_type": "stream",
     "text": [
      "R2: 0.6657653476430301\n"
     ]
    }
   ],
   "source": [
    "pred_valid = evaluate_model(valid)"
   ]
  },
  {
   "cell_type": "markdown",
   "metadata": {},
   "source": [
    "#### Модель Random Forest с кросс-валидацией"
   ]
  },
  {
   "cell_type": "code",
   "execution_count": 769,
   "metadata": {},
   "outputs": [],
   "source": [
    "from sklearn.model_selection import GridSearchCV"
   ]
  },
  {
   "cell_type": "code",
   "execution_count": 787,
   "metadata": {},
   "outputs": [],
   "source": [
    "parameters = [{'n_estimators': [150, 200, 250], \n",
    "               'max_features': np.arange(5, 6),\n",
    "               'max_depth': np.arange(10, 11)}]"
   ]
  },
  {
   "cell_type": "code",
   "execution_count": 788,
   "metadata": {},
   "outputs": [],
   "source": [
    "clf = GridSearchCV(estimator=RF(random_state=100), \n",
    "                   param_grid=parameters,\n",
    "                   cv=5)"
   ]
  },
  {
   "cell_type": "code",
   "execution_count": 789,
   "metadata": {},
   "outputs": [
    {
     "data": {
      "text/plain": [
       "GridSearchCV(cv=5, error_score='raise-deprecating',\n",
       "       estimator=RandomForestRegressor(bootstrap=True, criterion='mse', max_depth=None,\n",
       "           max_features='auto', max_leaf_nodes=None,\n",
       "           min_impurity_decrease=0.0, min_impurity_split=None,\n",
       "           min_samples_leaf=1, min_samples_split=2,\n",
       "           min_weight_fraction_leaf=0.0, n_estimators='warn', n_jobs=None,\n",
       "           oob_score=False, random_state=100, verbose=0, warm_start=False),\n",
       "       fit_params=None, iid='warn', n_jobs=None,\n",
       "       param_grid=[{'n_estimators': [150, 200, 250], 'max_features': array([5]), 'max_depth': array([10])}],\n",
       "       pre_dispatch='2*n_jobs', refit=True, return_train_score='warn',\n",
       "       scoring=None, verbose=0)"
      ]
     },
     "execution_count": 789,
     "metadata": {},
     "output_type": "execute_result"
    }
   ],
   "source": [
    "clf.fit(train.loc[:, feats], train['Price'])"
   ]
  },
  {
   "cell_type": "code",
   "execution_count": 790,
   "metadata": {},
   "outputs": [
    {
     "data": {
      "text/plain": [
       "{'max_depth': 10, 'max_features': 5, 'n_estimators': 200}"
      ]
     },
     "execution_count": 790,
     "metadata": {},
     "output_type": "execute_result"
    }
   ],
   "source": [
    "clf.best_params_"
   ]
  },
  {
   "cell_type": "code",
   "execution_count": 791,
   "metadata": {},
   "outputs": [
    {
     "name": "stdout",
     "output_type": "stream",
     "text": [
      "R2: 0.8891472196067308\n"
     ]
    }
   ],
   "source": [
    "pred_train = evaluate_model(train, clf)"
   ]
  },
  {
   "cell_type": "code",
   "execution_count": 792,
   "metadata": {},
   "outputs": [
    {
     "name": "stdout",
     "output_type": "stream",
     "text": [
      "R2: 0.6985022814408708\n"
     ]
    }
   ],
   "source": [
    "pred_train = evaluate_model(valid, clf)"
   ]
  },
  {
   "cell_type": "markdown",
   "metadata": {},
   "source": [
    "### Test"
   ]
  },
  {
   "cell_type": "code",
   "execution_count": 800,
   "metadata": {},
   "outputs": [],
   "source": [
    "test = pd.read_csv('input/test.csv')"
   ]
  },
  {
   "cell_type": "code",
   "execution_count": 801,
   "metadata": {},
   "outputs": [],
   "source": [
    "test = prepare_data(test)"
   ]
  },
  {
   "cell_type": "code",
   "execution_count": 802,
   "metadata": {},
   "outputs": [],
   "source": [
    "test['Price'] = evaluate_model(test, clf, check_r2='No')"
   ]
  },
  {
   "cell_type": "code",
   "execution_count": 803,
   "metadata": {},
   "outputs": [],
   "source": [
    "test.loc[:, ['Id', 'Price']].to_csv('VKulikov_predictions.csv', index=None)"
   ]
  },
  {
   "cell_type": "code",
   "execution_count": null,
   "metadata": {},
   "outputs": [],
   "source": []
  }
 ],
 "metadata": {
  "kernelspec": {
   "display_name": "Python 3",
   "language": "python",
   "name": "python3"
  },
  "language_info": {
   "codemirror_mode": {
    "name": "ipython",
    "version": 3
   },
   "file_extension": ".py",
   "mimetype": "text/x-python",
   "name": "python",
   "nbconvert_exporter": "python",
   "pygments_lexer": "ipython3",
   "version": "3.7.1"
  }
 },
 "nbformat": 4,
 "nbformat_minor": 2
}
